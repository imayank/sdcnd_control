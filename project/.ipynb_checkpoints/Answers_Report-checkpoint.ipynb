{
 "cells": [
  {
   "cell_type": "markdown",
   "id": "314b0e2d",
   "metadata": {},
   "source": [
    "### Plot for Throttle data "
   ]
  },
  {
   "cell_type": "markdown",
   "id": "467aefc1",
   "metadata": {},
   "source": [
    "![throttle](throttle.png)"
   ]
  },
  {
   "cell_type": "markdown",
   "id": "aea2eb32",
   "metadata": {},
   "source": [
    "Coefficients are as follows:\n",
    "1. **Proportional:** 0.06\n",
    "2. **Integral:** 0.016\n",
    "3. **Derivative:** 0.005\n",
    "\n",
    "*Blue Curve:*\n",
    "Initially error is large but the coefficients are small so there is a dip initially, but as the error accumulates the integral coefficient drives the controller towards the target velocity. Coefficients work together to drive the vehicle to the target velocity. Once the target velocity is attained, the vehicle sharply overshoots it, the derivative coefficient makes the controller to reduce the speed and remains at target velocity.\n",
    "\n",
    "*Green Curve:*\n",
    " The throttle output. Rises at start as the car moves from rest towards the target velocity. No sudden spikes can be seen, indicating that the velocity is increased gradually. There is a dip where the error oversoots zero, which is required as the vehicle at this point is driving at a speed greater than the target.\n",
    " \n",
    "*Orange Curve:*\n",
    "\n",
    "Brake Curve. Always at zero. Vehicle never applied brakes.\n"
   ]
  },
  {
   "cell_type": "markdown",
   "id": "cd68c019",
   "metadata": {},
   "source": [
    "### Plot for steer data"
   ]
  },
  {
   "cell_type": "markdown",
   "id": "4054fcbb",
   "metadata": {},
   "source": [
    "![steer](steer.png)"
   ]
  },
  {
   "cell_type": "markdown",
   "id": "68251af1",
   "metadata": {},
   "source": [
    "Coefficients are as follows:\n",
    "1. **Proportional:** 2.0\n",
    "2. **Integral:** 0.05\n",
    "3. **Derivative:** 0.0\n",
    "\n",
    "The coefficients are at a bit higher side, but the magnitude of error was small, so to make the vehicle steer the coefficients are kept large. The coefficients are not at all perfect as can be seen from the plot. Last part of the curve which is way off the zero mark is where the vehicle crashes.\n",
    "\n",
    "*Blue Curve:*\n",
    "\n",
    "The error starts small and quickly reduces to zero but then the curve goes a little bit below zero. Initially the error is small and cumulative error is also negligible so it is the proportional coefficient responsible to supply the control. After some time a little bit of error starts accumulating, which very slightly pushes the error towards zero. Mainly it is the proportional coefficient which is affecting the resultant steering control. \n",
    "\n",
    "*Orange Curve:*\n",
    "\n",
    "It is the steer curve- the control calculated by PID controller. Initially the vehicle has to move towards left lane due to vehicle in front in its current lane. That's why there is a control value of about -0.04. As the vehicle starts to follow its trajectory, not much steer is needed, that's why the curve stays near zero value. It almost mirrors the error because the proportional coefficient is considerably larger than the integral coefficient and as the proportional coefficient value is 2.0 the steer control is almost the double in magnitude of error."
   ]
  },
  {
   "cell_type": "markdown",
   "id": "9d6302fa",
   "metadata": {},
   "source": [
    "### Automatic Tuning"
   ]
  },
  {
   "cell_type": "markdown",
   "id": "23e0ac95",
   "metadata": {},
   "source": [
    "For the current coefficient setting for both throttle and steer several manual trials were used, and it was an exhausting process. Certainly any method for automatic tuning is a must. \n",
    "\n",
    "An algorithm like twiddle can be used for automatic tuning, where the parameters are adjusted until changing them improves the pid controller performance.\n",
    "\n",
    "While I was using manual trials I thought that it would be great if the pid controller parameters could be dynamically adjusted. Sometimes one needs one more than the other. So there can be a feedback loop which can adjust these parameters dynamically to improve the overall pid performance."
   ]
  },
  {
   "cell_type": "markdown",
   "id": "9cb82e32",
   "metadata": {},
   "source": [
    "### Pros and cons"
   ]
  },
  {
   "cell_type": "markdown",
   "id": "8a00c041",
   "metadata": {},
   "source": [
    "**Pros:**\n",
    "\n",
    "1. Easy to implement\n",
    "2. They are fast and stable\n",
    "\n",
    "**Cons:**\n",
    "\n",
    "1. Sensitive to noise and measurement error, as the output of the controller depends on the chosen error.\n",
    "2. Large disturbances can cause in huge build up of cumulative error over time, which in turn can cause a high response\n",
    "3. Requires careful tuning of parameters."
   ]
  }
 ],
 "metadata": {
  "kernelspec": {
   "display_name": "Python 3 (ipykernel)",
   "language": "python",
   "name": "python3"
  },
  "language_info": {
   "codemirror_mode": {
    "name": "ipython",
    "version": 3
   },
   "file_extension": ".py",
   "mimetype": "text/x-python",
   "name": "python",
   "nbconvert_exporter": "python",
   "pygments_lexer": "ipython3",
   "version": "3.12.3"
  }
 },
 "nbformat": 4,
 "nbformat_minor": 5
}
